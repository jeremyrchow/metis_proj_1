{
 "cells": [
  {
   "cell_type": "code",
   "execution_count": 55,
   "metadata": {},
   "outputs": [],
   "source": [
    "import pandas as pd"
   ]
  },
  {
   "cell_type": "code",
   "execution_count": 56,
   "metadata": {},
   "outputs": [],
   "source": [
    "\n",
    "compiled_data_directory = '../../../proj1_unsorted_data/compiled_data_unsorted.csv'\n",
    "df=pd.read_csv(compiled_data_directory, header=0, names = [\"index\",\"ca\",\"remote_unit\",\\\n",
    "               \"scp_address\",\"station\",\"line_name\",\"division\",\"date\",\"time\",\\\n",
    "               \"description\",\"entry_cumulative\",\"exit_cumulative\"])"
   ]
  },
  {
   "cell_type": "code",
   "execution_count": 57,
   "metadata": {},
   "outputs": [
    {
     "data": {
      "text/html": [
       "<div>\n",
       "<style scoped>\n",
       "    .dataframe tbody tr th:only-of-type {\n",
       "        vertical-align: middle;\n",
       "    }\n",
       "\n",
       "    .dataframe tbody tr th {\n",
       "        vertical-align: top;\n",
       "    }\n",
       "\n",
       "    .dataframe thead th {\n",
       "        text-align: right;\n",
       "    }\n",
       "</style>\n",
       "<table border=\"1\" class=\"dataframe\">\n",
       "  <thead>\n",
       "    <tr style=\"text-align: right;\">\n",
       "      <th></th>\n",
       "      <th>index</th>\n",
       "      <th>ca</th>\n",
       "      <th>remote_unit</th>\n",
       "      <th>scp_address</th>\n",
       "      <th>station</th>\n",
       "      <th>line_name</th>\n",
       "      <th>division</th>\n",
       "      <th>date</th>\n",
       "      <th>time</th>\n",
       "      <th>description</th>\n",
       "      <th>entry_cumulative</th>\n",
       "      <th>exit_cumulative</th>\n",
       "    </tr>\n",
       "  </thead>\n",
       "  <tbody>\n",
       "    <tr>\n",
       "      <th>0</th>\n",
       "      <td>0</td>\n",
       "      <td>A002</td>\n",
       "      <td>R051</td>\n",
       "      <td>02-00-00</td>\n",
       "      <td>59 ST</td>\n",
       "      <td>NQR456W</td>\n",
       "      <td>BMT</td>\n",
       "      <td>04/08/2017</td>\n",
       "      <td>00:00:00</td>\n",
       "      <td>REGULAR</td>\n",
       "      <td>6127245</td>\n",
       "      <td>2076158</td>\n",
       "    </tr>\n",
       "    <tr>\n",
       "      <th>1</th>\n",
       "      <td>1</td>\n",
       "      <td>A002</td>\n",
       "      <td>R051</td>\n",
       "      <td>02-00-00</td>\n",
       "      <td>59 ST</td>\n",
       "      <td>NQR456W</td>\n",
       "      <td>BMT</td>\n",
       "      <td>04/08/2017</td>\n",
       "      <td>04:00:00</td>\n",
       "      <td>REGULAR</td>\n",
       "      <td>6127285</td>\n",
       "      <td>2076165</td>\n",
       "    </tr>\n",
       "    <tr>\n",
       "      <th>2</th>\n",
       "      <td>2</td>\n",
       "      <td>A002</td>\n",
       "      <td>R051</td>\n",
       "      <td>02-00-00</td>\n",
       "      <td>59 ST</td>\n",
       "      <td>NQR456W</td>\n",
       "      <td>BMT</td>\n",
       "      <td>04/08/2017</td>\n",
       "      <td>08:00:00</td>\n",
       "      <td>REGULAR</td>\n",
       "      <td>6127304</td>\n",
       "      <td>2076196</td>\n",
       "    </tr>\n",
       "    <tr>\n",
       "      <th>3</th>\n",
       "      <td>3</td>\n",
       "      <td>A002</td>\n",
       "      <td>R051</td>\n",
       "      <td>02-00-00</td>\n",
       "      <td>59 ST</td>\n",
       "      <td>NQR456W</td>\n",
       "      <td>BMT</td>\n",
       "      <td>04/08/2017</td>\n",
       "      <td>12:00:00</td>\n",
       "      <td>REGULAR</td>\n",
       "      <td>6127409</td>\n",
       "      <td>2076284</td>\n",
       "    </tr>\n",
       "    <tr>\n",
       "      <th>4</th>\n",
       "      <td>4</td>\n",
       "      <td>A002</td>\n",
       "      <td>R051</td>\n",
       "      <td>02-00-00</td>\n",
       "      <td>59 ST</td>\n",
       "      <td>NQR456W</td>\n",
       "      <td>BMT</td>\n",
       "      <td>04/08/2017</td>\n",
       "      <td>16:00:00</td>\n",
       "      <td>REGULAR</td>\n",
       "      <td>6127654</td>\n",
       "      <td>2076350</td>\n",
       "    </tr>\n",
       "  </tbody>\n",
       "</table>\n",
       "</div>"
      ],
      "text/plain": [
       "   index    ca remote_unit scp_address station line_name division        date  \\\n",
       "0      0  A002        R051    02-00-00   59 ST   NQR456W      BMT  04/08/2017   \n",
       "1      1  A002        R051    02-00-00   59 ST   NQR456W      BMT  04/08/2017   \n",
       "2      2  A002        R051    02-00-00   59 ST   NQR456W      BMT  04/08/2017   \n",
       "3      3  A002        R051    02-00-00   59 ST   NQR456W      BMT  04/08/2017   \n",
       "4      4  A002        R051    02-00-00   59 ST   NQR456W      BMT  04/08/2017   \n",
       "\n",
       "       time description  entry_cumulative  exit_cumulative  \n",
       "0  00:00:00     REGULAR           6127245          2076158  \n",
       "1  04:00:00     REGULAR           6127285          2076165  \n",
       "2  08:00:00     REGULAR           6127304          2076196  \n",
       "3  12:00:00     REGULAR           6127409          2076284  \n",
       "4  16:00:00     REGULAR           6127654          2076350  "
      ]
     },
     "execution_count": 57,
     "metadata": {},
     "output_type": "execute_result"
    }
   ],
   "source": [
    "df.head()"
   ]
  },
  {
   "cell_type": "code",
   "execution_count": 58,
   "metadata": {},
   "outputs": [],
   "source": [
    "df=df.drop(columns = ['ca','remote_unit','division'])"
   ]
  },
  {
   "cell_type": "code",
   "execution_count": 59,
   "metadata": {},
   "outputs": [
    {
     "data": {
      "text/html": [
       "<div>\n",
       "<style scoped>\n",
       "    .dataframe tbody tr th:only-of-type {\n",
       "        vertical-align: middle;\n",
       "    }\n",
       "\n",
       "    .dataframe tbody tr th {\n",
       "        vertical-align: top;\n",
       "    }\n",
       "\n",
       "    .dataframe thead th {\n",
       "        text-align: right;\n",
       "    }\n",
       "</style>\n",
       "<table border=\"1\" class=\"dataframe\">\n",
       "  <thead>\n",
       "    <tr style=\"text-align: right;\">\n",
       "      <th></th>\n",
       "      <th>index</th>\n",
       "      <th>scp_address</th>\n",
       "      <th>station</th>\n",
       "      <th>line_name</th>\n",
       "      <th>date</th>\n",
       "      <th>time</th>\n",
       "      <th>description</th>\n",
       "      <th>entry_cumulative</th>\n",
       "      <th>exit_cumulative</th>\n",
       "    </tr>\n",
       "  </thead>\n",
       "  <tbody>\n",
       "    <tr>\n",
       "      <th>0</th>\n",
       "      <td>0</td>\n",
       "      <td>02-00-00</td>\n",
       "      <td>59 ST</td>\n",
       "      <td>NQR456W</td>\n",
       "      <td>04/08/2017</td>\n",
       "      <td>00:00:00</td>\n",
       "      <td>REGULAR</td>\n",
       "      <td>6127245</td>\n",
       "      <td>2076158</td>\n",
       "    </tr>\n",
       "    <tr>\n",
       "      <th>1</th>\n",
       "      <td>1</td>\n",
       "      <td>02-00-00</td>\n",
       "      <td>59 ST</td>\n",
       "      <td>NQR456W</td>\n",
       "      <td>04/08/2017</td>\n",
       "      <td>04:00:00</td>\n",
       "      <td>REGULAR</td>\n",
       "      <td>6127285</td>\n",
       "      <td>2076165</td>\n",
       "    </tr>\n",
       "    <tr>\n",
       "      <th>2</th>\n",
       "      <td>2</td>\n",
       "      <td>02-00-00</td>\n",
       "      <td>59 ST</td>\n",
       "      <td>NQR456W</td>\n",
       "      <td>04/08/2017</td>\n",
       "      <td>08:00:00</td>\n",
       "      <td>REGULAR</td>\n",
       "      <td>6127304</td>\n",
       "      <td>2076196</td>\n",
       "    </tr>\n",
       "    <tr>\n",
       "      <th>3</th>\n",
       "      <td>3</td>\n",
       "      <td>02-00-00</td>\n",
       "      <td>59 ST</td>\n",
       "      <td>NQR456W</td>\n",
       "      <td>04/08/2017</td>\n",
       "      <td>12:00:00</td>\n",
       "      <td>REGULAR</td>\n",
       "      <td>6127409</td>\n",
       "      <td>2076284</td>\n",
       "    </tr>\n",
       "    <tr>\n",
       "      <th>4</th>\n",
       "      <td>4</td>\n",
       "      <td>02-00-00</td>\n",
       "      <td>59 ST</td>\n",
       "      <td>NQR456W</td>\n",
       "      <td>04/08/2017</td>\n",
       "      <td>16:00:00</td>\n",
       "      <td>REGULAR</td>\n",
       "      <td>6127654</td>\n",
       "      <td>2076350</td>\n",
       "    </tr>\n",
       "  </tbody>\n",
       "</table>\n",
       "</div>"
      ],
      "text/plain": [
       "   index scp_address station line_name        date      time description  \\\n",
       "0      0    02-00-00   59 ST   NQR456W  04/08/2017  00:00:00     REGULAR   \n",
       "1      1    02-00-00   59 ST   NQR456W  04/08/2017  04:00:00     REGULAR   \n",
       "2      2    02-00-00   59 ST   NQR456W  04/08/2017  08:00:00     REGULAR   \n",
       "3      3    02-00-00   59 ST   NQR456W  04/08/2017  12:00:00     REGULAR   \n",
       "4      4    02-00-00   59 ST   NQR456W  04/08/2017  16:00:00     REGULAR   \n",
       "\n",
       "   entry_cumulative  exit_cumulative  \n",
       "0           6127245          2076158  \n",
       "1           6127285          2076165  \n",
       "2           6127304          2076196  \n",
       "3           6127409          2076284  \n",
       "4           6127654          2076350  "
      ]
     },
     "execution_count": 59,
     "metadata": {},
     "output_type": "execute_result"
    }
   ],
   "source": [
    "df.head()"
   ]
  },
  {
   "cell_type": "code",
   "execution_count": 6,
   "metadata": {},
   "outputs": [],
   "source": [
    "df['entry_relative'] = df['entry_cumulative'].diff()\n",
    "df['exit_relative'] = df['exit_cumulative'].diff()"
   ]
  },
  {
   "cell_type": "code",
   "execution_count": 7,
   "metadata": {},
   "outputs": [
    {
     "data": {
      "text/plain": [
       "2"
      ]
     },
     "execution_count": 7,
     "metadata": {},
     "output_type": "execute_result"
    }
   ],
   "source": [
    "df['description'].nunique()"
   ]
  },
  {
   "cell_type": "code",
   "execution_count": 8,
   "metadata": {},
   "outputs": [
    {
     "data": {
      "text/plain": [
       "count    2.179912e+06\n",
       "mean    -2.808228e+00\n",
       "std      4.198471e+07\n",
       "min     -2.118998e+09\n",
       "25%      8.000000e+00\n",
       "50%      7.400000e+01\n",
       "75%      2.490000e+02\n",
       "max      2.123318e+09\n",
       "Name: entry_relative, dtype: float64"
      ]
     },
     "execution_count": 8,
     "metadata": {},
     "output_type": "execute_result"
    }
   ],
   "source": [
    "df['entry_relative'].describe()"
   ]
  },
  {
   "cell_type": "code",
   "execution_count": 35,
   "metadata": {},
   "outputs": [],
   "source": [
    "sus_index=df.loc[df['entry_relative']==df['entry_relative'].max()]"
   ]
  },
  {
   "cell_type": "code",
   "execution_count": 54,
   "metadata": {},
   "outputs": [
    {
     "name": "stdout",
     "output_type": "stream",
     "text": [
      "        scp_address station line_name        date      time description  \\\n",
      "1248069    01-03-00   14 ST      ACEL  03/18/2017  01:00:00     REGULAR   \n",
      "\n",
      "         entry_cumulative  exit_cumulative  entry_relative  exit_relative  \n",
      "1248069        2130581192       1157476857    2.123318e+09   1.148523e+09  \n"
     ]
    },
    {
     "data": {
      "text/plain": [
       "1248066    01-00-02\n",
       "1248067    01-00-02\n",
       "1248068    01-00-02\n",
       "1248069    01-03-00\n",
       "1248070    01-03-00\n",
       "1248071    01-03-00\n",
       "Name: scp_address, dtype: object"
      ]
     },
     "execution_count": 54,
     "metadata": {},
     "output_type": "execute_result"
    }
   ],
   "source": [
    "# Find where turnstile addresses don't match so that diff() function won't be applied there\n",
    "print(sus_index)\n",
    "sus_index_num=1248069\n",
    "df.iloc[sus_index_num-3:sus_index_num+3,0]"
   ]
  },
  {
   "cell_type": "code",
   "execution_count": null,
   "metadata": {},
   "outputs": [],
   "source": []
  },
  {
   "cell_type": "code",
   "execution_count": null,
   "metadata": {},
   "outputs": [],
   "source": []
  }
 ],
 "metadata": {
  "kernelspec": {
   "display_name": "Python 3",
   "language": "python",
   "name": "python3"
  },
  "language_info": {
   "codemirror_mode": {
    "name": "ipython",
    "version": 3
   },
   "file_extension": ".py",
   "mimetype": "text/x-python",
   "name": "python",
   "nbconvert_exporter": "python",
   "pygments_lexer": "ipython3",
   "version": "3.7.2"
  }
 },
 "nbformat": 4,
 "nbformat_minor": 2
}
